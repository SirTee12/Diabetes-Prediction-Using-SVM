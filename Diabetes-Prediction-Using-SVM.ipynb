{
 "cells": [
  {
   "cell_type": "markdown",
   "id": "b5b6b58b",
   "metadata": {},
   "source": [
    "## Diabetes Prediction Using Support Vector Machines\n",
    "\n",
    "**Context**\n",
    "This dataset is originally from the National Institute of Diabetes and Digestive and Kidney Diseases. The objective is to predict based on diagnostic measurements whether a patient has diabetes.\n",
    "\n",
    "**Content**\n",
    "Several constraints were placed on the selection of these instances from a larger database. In particular, all patients here are females at least 21 years old of Pima Indian heritage.\n",
    "\n",
    "+ Pregnancies: Number of times pregnant\n",
    "+ Glucose: Plasma glucose concentration a 2 hours in an oral glucose tolerance test\n",
    "+ BloodPressure: Diastolic blood pressure (mm Hg)\n",
    "+ SkinThickness: Triceps skin fold thickness (mm)\n",
    "+Insulin: 2-Hour serum insulin (mu U/ml)\n",
    "+ BMI: Body mass index (weight in kg/(height in m)^2)\n",
    "+ DiabetesPedigreeFunction: Diabetes pedigree function\n",
    "+ Age: Age (years)\n",
    "+ Outcome: Class variable (0 or 1)"
   ]
  },
  {
   "cell_type": "code",
   "execution_count": null,
   "id": "b4ace797",
   "metadata": {},
   "outputs": [],
   "source": []
  },
  {
   "cell_type": "code",
   "execution_count": null,
   "id": "9914f970",
   "metadata": {},
   "outputs": [],
   "source": []
  }
 ],
 "metadata": {
  "kernelspec": {
   "display_name": "Python 3 (ipykernel)",
   "language": "python",
   "name": "python3"
  },
  "language_info": {
   "codemirror_mode": {
    "name": "ipython",
    "version": 3
   },
   "file_extension": ".py",
   "mimetype": "text/x-python",
   "name": "python",
   "nbconvert_exporter": "python",
   "pygments_lexer": "ipython3",
   "version": "3.10.9"
  }
 },
 "nbformat": 4,
 "nbformat_minor": 5
}
